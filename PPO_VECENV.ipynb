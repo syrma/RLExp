{
 "nbformat": 4,
 "nbformat_minor": 0,
 "metadata": {
  "colab": {
   "name": "PPO_VECENV.ipynb",
   "provenance": [],
   "collapsed_sections": [],
   "include_colab_link": true
  },
  "kernelspec": {
   "name": "pycharm-2cd3141b",
   "language": "python",
   "display_name": "PyCharm (RLExp)"
  }
 },
 "cells": [
  {
   "cell_type": "markdown",
   "metadata": {
    "id": "view-in-github",
    "colab_type": "text"
   },
   "source": [
    "<a href=\"https://colab.research.google.com/github/syrma/RLExp/blob/master/PPO_VECENV.ipynb\" target=\"_parent\"><img src=\"https://colab.research.google.com/assets/colab-badge.svg\" alt=\"Open In Colab\"/></a>"
   ]
  },
  {
   "cell_type": "code",
   "metadata": {
    "colab": {
     "base_uri": "https://localhost:8080/"
    },
    "id": "fBnrThP-ybaQ",
    "outputId": "552e1d12-7e68-485b-ae66-240c2a50f101"
   },
   "source": [
    "!pip install tensorflow\n",
    "!pip install pybullet\n",
    "!pip install gym_vecenv\n",
    "!pip install tensorflow_probability\n",
    "\n",
    "import tensorflow as tf\n",
    "import gym\n",
    "import pybullet_envs\n",
    "import time\n",
    "import math\n",
    "import gym_vecenv\n",
    "import tensorflow_probability as tfp\n",
    "tfd = tfp.distributions\n"
   ],
   "execution_count": 77,
   "outputs": [
    {
     "name": "stdout",
     "output_type": "stream",
     "text": [
      "Requirement already satisfied: tensorflow in /home/romaissa/anaconda3/envs/experiments/lib/python3.7/site-packages (2.4.1)\r\n",
      "Requirement already satisfied: gast==0.3.3 in /home/romaissa/anaconda3/envs/experiments/lib/python3.7/site-packages (from tensorflow) (0.3.3)\r\n",
      "Requirement already satisfied: six~=1.15.0 in /home/romaissa/anaconda3/envs/experiments/lib/python3.7/site-packages (from tensorflow) (1.15.0)\r\n",
      "Requirement already satisfied: absl-py~=0.10 in /home/romaissa/anaconda3/envs/experiments/lib/python3.7/site-packages (from tensorflow) (0.12.0)\r\n",
      "Requirement already satisfied: protobuf>=3.9.2 in /home/romaissa/anaconda3/envs/experiments/lib/python3.7/site-packages (from tensorflow) (3.15.6)\r\n",
      "Requirement already satisfied: flatbuffers~=1.12.0 in /home/romaissa/anaconda3/envs/experiments/lib/python3.7/site-packages (from tensorflow) (1.12)\r\n",
      "Requirement already satisfied: wheel~=0.35 in /home/romaissa/anaconda3/envs/experiments/lib/python3.7/site-packages (from tensorflow) (0.36.2)\r\n",
      "Requirement already satisfied: h5py~=2.10.0 in /home/romaissa/anaconda3/envs/experiments/lib/python3.7/site-packages (from tensorflow) (2.10.0)\r\n",
      "Requirement already satisfied: opt-einsum~=3.3.0 in /home/romaissa/anaconda3/envs/experiments/lib/python3.7/site-packages (from tensorflow) (3.3.0)\r\n",
      "Requirement already satisfied: termcolor~=1.1.0 in /home/romaissa/anaconda3/envs/experiments/lib/python3.7/site-packages (from tensorflow) (1.1.0)\r\n",
      "Requirement already satisfied: tensorboard~=2.4 in /home/romaissa/anaconda3/envs/experiments/lib/python3.7/site-packages (from tensorflow) (2.4.1)\r\n",
      "Requirement already satisfied: tensorflow-estimator<2.5.0,>=2.4.0 in /home/romaissa/anaconda3/envs/experiments/lib/python3.7/site-packages (from tensorflow) (2.4.0)\r\n",
      "Requirement already satisfied: google-pasta~=0.2 in /home/romaissa/anaconda3/envs/experiments/lib/python3.7/site-packages (from tensorflow) (0.2.0)\r\n",
      "Requirement already satisfied: astunparse~=1.6.3 in /home/romaissa/anaconda3/envs/experiments/lib/python3.7/site-packages (from tensorflow) (1.6.3)\r\n",
      "Requirement already satisfied: keras-preprocessing~=1.1.2 in /home/romaissa/anaconda3/envs/experiments/lib/python3.7/site-packages (from tensorflow) (1.1.2)\r\n",
      "Requirement already satisfied: typing-extensions~=3.7.4 in /home/romaissa/anaconda3/envs/experiments/lib/python3.7/site-packages (from tensorflow) (3.7.4.3)\r\n",
      "Requirement already satisfied: wrapt~=1.12.1 in /home/romaissa/anaconda3/envs/experiments/lib/python3.7/site-packages (from tensorflow) (1.12.1)\r\n",
      "Requirement already satisfied: numpy~=1.19.2 in /home/romaissa/anaconda3/envs/experiments/lib/python3.7/site-packages (from tensorflow) (1.19.5)\r\n",
      "Requirement already satisfied: grpcio~=1.32.0 in /home/romaissa/anaconda3/envs/experiments/lib/python3.7/site-packages (from tensorflow) (1.32.0)\r\n",
      "Requirement already satisfied: google-auth-oauthlib<0.5,>=0.4.1 in /home/romaissa/anaconda3/envs/experiments/lib/python3.7/site-packages (from tensorboard~=2.4->tensorflow) (0.4.1)\r\n",
      "Requirement already satisfied: markdown>=2.6.8 in /home/romaissa/anaconda3/envs/experiments/lib/python3.7/site-packages (from tensorboard~=2.4->tensorflow) (3.1.1)\r\n",
      "Requirement already satisfied: google-auth<2,>=1.6.3 in /home/romaissa/anaconda3/envs/experiments/lib/python3.7/site-packages (from tensorboard~=2.4->tensorflow) (1.10.0)\r\n",
      "Requirement already satisfied: requests<3,>=2.21.0 in /home/romaissa/anaconda3/envs/experiments/lib/python3.7/site-packages (from tensorboard~=2.4->tensorflow) (2.22.0)\r\n",
      "Requirement already satisfied: werkzeug>=0.11.15 in /home/romaissa/anaconda3/envs/experiments/lib/python3.7/site-packages (from tensorboard~=2.4->tensorflow) (0.16.0)\r\n",
      "Requirement already satisfied: tensorboard-plugin-wit>=1.6.0 in /home/romaissa/anaconda3/envs/experiments/lib/python3.7/site-packages (from tensorboard~=2.4->tensorflow) (1.8.0)\r\n",
      "Requirement already satisfied: setuptools>=41.0.0 in /home/romaissa/anaconda3/envs/experiments/lib/python3.7/site-packages (from tensorboard~=2.4->tensorflow) (42.0.2.post20191203)\r\n",
      "Requirement already satisfied: requests-oauthlib>=0.7.0 in /home/romaissa/anaconda3/envs/experiments/lib/python3.7/site-packages (from google-auth-oauthlib<0.5,>=0.4.1->tensorboard~=2.4->tensorflow) (1.3.0)\r\n",
      "Requirement already satisfied: cachetools<5.0,>=2.0.0 in /home/romaissa/anaconda3/envs/experiments/lib/python3.7/site-packages (from google-auth<2,>=1.6.3->tensorboard~=2.4->tensorflow) (4.0.0)\r\n",
      "Requirement already satisfied: pyasn1-modules>=0.2.1 in /home/romaissa/anaconda3/envs/experiments/lib/python3.7/site-packages (from google-auth<2,>=1.6.3->tensorboard~=2.4->tensorflow) (0.2.7)\r\n",
      "Requirement already satisfied: rsa<4.1,>=3.1.4 in /home/romaissa/anaconda3/envs/experiments/lib/python3.7/site-packages (from google-auth<2,>=1.6.3->tensorboard~=2.4->tensorflow) (4.0)\r\n",
      "Requirement already satisfied: urllib3!=1.25.0,!=1.25.1,<1.26,>=1.21.1 in /home/romaissa/anaconda3/envs/experiments/lib/python3.7/site-packages (from requests<3,>=2.21.0->tensorboard~=2.4->tensorflow) (1.25.7)\r\n",
      "Requirement already satisfied: certifi>=2017.4.17 in /home/romaissa/anaconda3/envs/experiments/lib/python3.7/site-packages (from requests<3,>=2.21.0->tensorboard~=2.4->tensorflow) (2020.12.5)\r\n",
      "Requirement already satisfied: chardet<3.1.0,>=3.0.2 in /home/romaissa/anaconda3/envs/experiments/lib/python3.7/site-packages (from requests<3,>=2.21.0->tensorboard~=2.4->tensorflow) (3.0.4)\r\n",
      "Requirement already satisfied: idna<2.9,>=2.5 in /home/romaissa/anaconda3/envs/experiments/lib/python3.7/site-packages (from requests<3,>=2.21.0->tensorboard~=2.4->tensorflow) (2.8)\r\n",
      "Requirement already satisfied: oauthlib>=3.0.0 in /home/romaissa/anaconda3/envs/experiments/lib/python3.7/site-packages (from requests-oauthlib>=0.7.0->google-auth-oauthlib<0.5,>=0.4.1->tensorboard~=2.4->tensorflow) (3.1.0)\r\n",
      "Requirement already satisfied: pyasn1<0.5.0,>=0.4.6 in /home/romaissa/anaconda3/envs/experiments/lib/python3.7/site-packages (from pyasn1-modules>=0.2.1->google-auth<2,>=1.6.3->tensorboard~=2.4->tensorflow) (0.4.8)\r\n",
      "Requirement already satisfied: pybullet in /home/romaissa/anaconda3/envs/experiments/lib/python3.7/site-packages (2.6.3)\r\n",
      "Requirement already satisfied: numpy in /home/romaissa/anaconda3/envs/experiments/lib/python3.7/site-packages (from pybullet) (1.19.5)\r\n",
      "Requirement already satisfied: gym_vecenv in /home/romaissa/anaconda3/envs/experiments/lib/python3.7/site-packages (1.0)\r\n",
      "Requirement already satisfied: cloudpickle in /home/romaissa/anaconda3/envs/experiments/lib/python3.7/site-packages (from gym_vecenv) (1.6.0)\r\n",
      "Requirement already satisfied: numpy in /home/romaissa/anaconda3/envs/experiments/lib/python3.7/site-packages (from gym_vecenv) (1.19.5)\r\n",
      "Requirement already satisfied: gym in /home/romaissa/anaconda3/envs/experiments/lib/python3.7/site-packages (from gym_vecenv) (0.13.1)\r\n",
      "Requirement already satisfied: six in /home/romaissa/anaconda3/envs/experiments/lib/python3.7/site-packages (from gym->gym_vecenv) (1.15.0)\r\n",
      "Requirement already satisfied: scipy in /home/romaissa/anaconda3/envs/experiments/lib/python3.7/site-packages (from gym->gym_vecenv) (1.6.1)\r\n",
      "Requirement already satisfied: pyglet<=1.3.2,>=1.2.0 in /home/romaissa/anaconda3/envs/experiments/lib/python3.7/site-packages (from gym->gym_vecenv) (1.3.2)\r\n",
      "Requirement already satisfied: future in /home/romaissa/anaconda3/envs/experiments/lib/python3.7/site-packages (from pyglet<=1.3.2,>=1.2.0->gym->gym_vecenv) (0.17.1)\r\n",
      "Requirement already satisfied: tensorflow_probability in /home/romaissa/anaconda3/envs/experiments/lib/python3.7/site-packages (0.12.1)\r\n",
      "Requirement already satisfied: numpy>=1.13.3 in /home/romaissa/anaconda3/envs/experiments/lib/python3.7/site-packages (from tensorflow_probability) (1.19.5)\r\n",
      "Requirement already satisfied: gast>=0.3.2 in /home/romaissa/anaconda3/envs/experiments/lib/python3.7/site-packages (from tensorflow_probability) (0.3.3)\r\n",
      "Requirement already satisfied: dm-tree in /home/romaissa/anaconda3/envs/experiments/lib/python3.7/site-packages (from tensorflow_probability) (0.1.5)\r\n",
      "Requirement already satisfied: six>=1.10.0 in /home/romaissa/anaconda3/envs/experiments/lib/python3.7/site-packages (from tensorflow_probability) (1.15.0)\r\n",
      "Requirement already satisfied: cloudpickle>=1.3 in /home/romaissa/anaconda3/envs/experiments/lib/python3.7/site-packages (from tensorflow_probability) (1.6.0)\r\n",
      "Requirement already satisfied: decorator in /home/romaissa/anaconda3/envs/experiments/lib/python3.7/site-packages (from tensorflow_probability) (4.4.1)\r\n"
     ]
    }
   ]
  },
  {
   "cell_type": "code",
   "metadata": {
    "id": "JFuSUz15yyk0"
   },
   "source": [
    "@tf.function\n",
    "def action(model, obs, env):\n",
    "    est = model(obs)\n",
    "    if env.action_space.shape:\n",
    "        dist = tfd.MultivariateNormalDiag(est, tf.exp(model.log_std))\n",
    "    else:\n",
    "        dist = tfd.Categorical(logits=est, dtype=env.action_space.dtype)\n",
    "\n",
    "    action = dist.sample()\n",
    "    logprob = tf.reduce_sum(dist.log_prob(action))\n",
    "\n",
    "    return action, logprob"
   ],
   "execution_count": 78,
   "outputs": []
  },
  {
   "cell_type": "code",
   "metadata": {
    "colab": {
     "base_uri": "https://localhost:8080/"
    },
    "id": "l33Nh3aCJrd-",
    "outputId": "923c201d-b6d1-43ee-aa31-c4246c188b04"
   },
   "source": [
    "    size = 5000\n",
    "    epochs = 100\n",
    "    opt = tf.optimizers.Adam(learning_rate=1e-2)\n",
    "    γ = .99\n",
    "    λ = 0.97\n",
    "    num_env = 5\n",
    "\n",
    "    env_name = \"CartPole-v0\"\n",
    "\n",
    "    env = gym_vecenv.DummyVecEnv([lambda: gym.make(env_name)] * num_env)\n",
    "    # policy/actor model\n",
    "    model = tf.keras.models.Sequential([\n",
    "        tf.keras.layers.Dense(64, activation='tanh', input_shape=env.observation_space.shape),\n",
    "        tf.keras.layers.Dense(64, activation='tanh'),\n",
    "        tf.keras.layers.Dense(env.action_space.shape[0] if env.action_space.shape else env.action_space.n)\n",
    "    ])\n",
    "    if env.action_space.shape:\n",
    "        model.log_std = tf.Variable(tf.fill(env.action_space.shape, -0.5))\n",
    "    model.summary()\n",
    "\n",
    "    # value/critic model\n",
    "    value_model = tf.keras.models.Sequential([\n",
    "        tf.keras.layers.Dense(64, activation='tanh', input_shape=env.observation_space.shape),\n",
    "        tf.keras.layers.Dense(64, activation='tanh'),\n",
    "        tf.keras.layers.Dense(1)\n",
    "    ])\n",
    "    value_model.compile('adam', loss='MSE')\n",
    "    value_model.summary()\n"
   ],
   "execution_count": 79,
   "outputs": [
    {
     "name": "stdout",
     "output_type": "stream",
     "text": [
      "Model: \"sequential_18\"\n",
      "_________________________________________________________________\n",
      "Layer (type)                 Output Shape              Param #   \n",
      "=================================================================\n",
      "dense_54 (Dense)             (None, 64)                320       \n",
      "_________________________________________________________________\n",
      "dense_55 (Dense)             (None, 64)                4160      \n",
      "_________________________________________________________________\n",
      "dense_56 (Dense)             (None, 2)                 130       \n",
      "=================================================================\n",
      "Total params: 4,610\n",
      "Trainable params: 4,610\n",
      "Non-trainable params: 0\n",
      "_________________________________________________________________\n",
      "Model: \"sequential_19\"\n",
      "_________________________________________________________________\n",
      "Layer (type)                 Output Shape              Param #   \n",
      "=================================================================\n",
      "dense_57 (Dense)             (None, 64)                320       \n",
      "_________________________________________________________________\n",
      "dense_58 (Dense)             (None, 64)                4160      \n",
      "_________________________________________________________________\n",
      "dense_59 (Dense)             (None, 1)                 65        \n",
      "=================================================================\n",
      "Total params: 4,545\n",
      "Trainable params: 4,545\n",
      "Non-trainable params: 0\n",
      "_________________________________________________________________\n"
     ]
    }
   ]
  },
  {
   "cell_type": "code",
   "metadata": {
    "id": "uLD9HvdxI0Ya"
   },
   "source": [
    "    obs_spc = env.observation_space\n",
    "    act_spc = env.action_space\n",
    "    start_time = time.time()\n",
    "    \n",
    "    obs_buf = tf.TensorArray(obs_spc.dtype, size)\n",
    "    act_buf = tf.TensorArray(act_spc.dtype, size)\n",
    "    rew_buf = tf.TensorArray(tf.float32, size)\n",
    "    prob_buf = tf.TensorArray(tf.float32, size)\n",
    "    done_buf = tf.TensorArray(tf.float32, size)\n",
    "    \n",
    "    obs = env.reset()\n",
    "    obs = tf.cast(obs, obs_spc.dtype)\n",
    "\n",
    "    for i in range(size):\n",
    "        act, prob = action(model, obs, env)\n",
    "        new_obs, rew, done, _ = env.step(act.numpy())\n",
    "\n",
    "        obs_buf = obs_buf.write(i, obs)\n",
    "        act_buf = act_buf.write(i, act)\n",
    "        rew_buf = rew_buf.write(i, rew)\n",
    "        prob_buf = prob_buf.write(i, prob)\n",
    "        done_buf = done_buf.write(i, done)\n",
    "\n",
    "        obs = tf.cast(new_obs, obs_spc.dtype)\n",
    "\n",
    "    obs_buf = obs_buf.stack()\n",
    "    act_buf = act_buf.stack()\n",
    "    rew_buf = rew_buf.stack()\n",
    "    prob_buf = prob_buf.stack()\n",
    "    done_buf = done_buf.stack()\n",
    "\n",
    "    # last_val is 0 when done\n",
    "    last_val = tf.squeeze(value_model(obs)) * (1 - done_buf[-1])\n",
    "\n",
    "    #rets = []\n",
    "    #lens = []\n"
   ],
   "execution_count": 80,
   "outputs": []
  },
  {
   "cell_type": "code",
   "metadata": {
    "id": "Oey0XTKWis27"
   },
   "source": [
    "#TODO: turn into a list of tensor arrays\n",
    "v_hats = [tf.TensorArray(tf.float32, size) for _ in range(num_env)]\n",
    "gae = [tf.TensorArray(tf.float32, size) for _ in range(num_env)]\n",
    "\n",
    "#TODO: changer la boucle et remplacer cumprod/cumsum\n",
    "last_idx = [0] * num_env\n",
    "\n",
    "for i in range(size):\n",
    "  for j in range(num_env): # num_env = ?\n",
    "    if i != size - 1 and not done_buf[i,j]:\n",
    "      continue\n",
    "\n",
    "    # sum of discounted rewards\n",
    "    current_episode = slice(last_idx[j],i+1)   \n",
    "    ep_idx = range(last_idx[j], i+1) \n",
    "    ep_rew = rew_buf[current_episode, j]\n",
    "    discounts = tf.math.cumprod(tf.fill(ep_rew.shape, γ), exclusive=True)\n",
    "    ep_v_hats = tf.math.cumsum(discounts * ep_rew, reverse=True)\n",
    "    v_hats[j] = v_hats[j].scatter(ep_idx, ep_v_hats)\n",
    "\n",
    "    Vs = tf.squeeze(value_model(obs_buf[current_episode, j]), axis=1)\n",
    "    if i == size - 1:\n",
    "      Vsp1 = tf.concat([Vs[1:], [last_val[j]]], axis=0)\n",
    "    else:\n",
    "      Vsp1 = tf.concat([Vs[1:], [0]], axis=0)\n",
    "    \n",
    "    deltas = rew_buf[current_episode, j] + γ * Vsp1 - Vs\n",
    "\n",
    "    # compute the advantage function (gae)\n",
    "    discounts = tf.math.cumprod(tf.fill(deltas.shape, γ * λ), exclusive=True)\n",
    "    ep_gae = tf.math.cumsum(discounts * deltas, reverse=True)\n",
    "    gae[j] = gae[j].scatter(ep_idx, ep_gae)\n",
    "\n",
    "    last_idx[j] = i+1\n",
    "\n",
    "v_hats = [v_hat.stack() for v_hat in v_hats]\n",
    "gae = [g.stack() for g in gae]"
   ],
   "execution_count": 81,
   "outputs": []
  },
  {
   "cell_type": "code",
   "metadata": {
    "id": "Zm6KU5q7zZb-"
   },
   "source": [
    "#def run_env(env, size, model, value_model, γ, λ):"
   ],
   "execution_count": 82,
   "outputs": []
  },
  {
   "cell_type": "code",
   "execution_count": 83,
   "outputs": [],
   "source": [
    "def loss():\n",
    "    eps = 0.1\n",
    "    obs, act, adv, logprob = obs_buf, act_buf, gae, prob_buf\n",
    "\n",
    "    if act_spc.shape:\n",
    "        dist = tfd.MultivariateNormalDiag(model(obs), tf.exp(model.log_std))\n",
    "    else:\n",
    "        dist = tfd.Categorical(logits=model(obs))\n",
    "    new_logprob = dist.log_prob(act)\n",
    "\n",
    "    #use map?\n",
    "    #map(\n",
    "\n",
    "    mask = map(adv, tf.float32, tf.cast)\n",
    "\n",
    "    masks = [tf.cast(adv[_] >= 0, tf.float32) for _ in range(num_env)]\n",
    "    epsilon_clip = masks * (1 + eps) + (1 - masks) * (1 - eps)\n",
    "    ratio = tf.exp(new_logprob - logprob)\n",
    "\n",
    "    return -tf.reduce_mean(tf.minimum(ratio * adv, epsilon_clip * adv))"
   ],
   "metadata": {
    "collapsed": false,
    "pycharm": {
     "name": "#%%\n"
    }
   }
  },
  {
   "cell_type": "code",
   "metadata": {
    "id": "WLam1Nvz0AVY",
    "pycharm": {
     "name": "#%%\n"
    }
   },
   "source": [
    "# train one epoch\n",
    "\n",
    "train_start_time = time.time()\n",
    "\n",
    "var_list = list(model.trainable_weights)\n",
    "if act_spc.shape:\n",
    "    var_list.append(model.log_std)\n",
    "\n",
    "opt.minimize(loss(), var_list=var_list)\n",
    "\n",
    "train_time = time.time() - train_start_time\n",
    "run_time = train_start_time - start_time\n",
    "\n",
    "print('run time', run_time, 'train time', train_time)\n",
    "print('AvgEpRet:', tf.reduce_mean(rets).numpy())\n",
    "\n",
    "hist = value_model.fit(obs_buf.numpy(), V_hats.numpy(), batch_size=32)"
   ],
   "execution_count": 84,
   "outputs": [
    {
     "ename": "TypeError",
     "evalue": "'DType' object is not iterable",
     "output_type": "error",
     "traceback": [
      "\u001B[0;31m---------------------------------------------------------------------------\u001B[0m",
      "\u001B[0;31mTypeError\u001B[0m                                 Traceback (most recent call last)",
      "\u001B[0;32m<ipython-input-84-aba664e24604>\u001B[0m in \u001B[0;36m<module>\u001B[0;34m\u001B[0m\n\u001B[1;32m      7\u001B[0m     \u001B[0mvar_list\u001B[0m\u001B[0;34m.\u001B[0m\u001B[0mappend\u001B[0m\u001B[0;34m(\u001B[0m\u001B[0mmodel\u001B[0m\u001B[0;34m.\u001B[0m\u001B[0mlog_std\u001B[0m\u001B[0;34m)\u001B[0m\u001B[0;34m\u001B[0m\u001B[0;34m\u001B[0m\u001B[0m\n\u001B[1;32m      8\u001B[0m \u001B[0;34m\u001B[0m\u001B[0m\n\u001B[0;32m----> 9\u001B[0;31m \u001B[0mopt\u001B[0m\u001B[0;34m.\u001B[0m\u001B[0mminimize\u001B[0m\u001B[0;34m(\u001B[0m\u001B[0mloss\u001B[0m\u001B[0;34m(\u001B[0m\u001B[0;34m)\u001B[0m\u001B[0;34m,\u001B[0m \u001B[0mvar_list\u001B[0m\u001B[0;34m=\u001B[0m\u001B[0mvar_list\u001B[0m\u001B[0;34m)\u001B[0m\u001B[0;34m\u001B[0m\u001B[0;34m\u001B[0m\u001B[0m\n\u001B[0m\u001B[1;32m     10\u001B[0m \u001B[0;34m\u001B[0m\u001B[0m\n\u001B[1;32m     11\u001B[0m \u001B[0mtrain_time\u001B[0m \u001B[0;34m=\u001B[0m \u001B[0mtime\u001B[0m\u001B[0;34m.\u001B[0m\u001B[0mtime\u001B[0m\u001B[0;34m(\u001B[0m\u001B[0;34m)\u001B[0m \u001B[0;34m-\u001B[0m \u001B[0mtrain_start_time\u001B[0m\u001B[0;34m\u001B[0m\u001B[0;34m\u001B[0m\u001B[0m\n",
      "\u001B[0;32m<ipython-input-83-185ea9bdacc8>\u001B[0m in \u001B[0;36mloss\u001B[0;34m()\u001B[0m\n\u001B[1;32m     12\u001B[0m     \u001B[0;31m#map(\u001B[0m\u001B[0;34m\u001B[0m\u001B[0;34m\u001B[0m\u001B[0;34m\u001B[0m\u001B[0m\n\u001B[1;32m     13\u001B[0m \u001B[0;34m\u001B[0m\u001B[0m\n\u001B[0;32m---> 14\u001B[0;31m     \u001B[0mmask\u001B[0m \u001B[0;34m=\u001B[0m \u001B[0mmap\u001B[0m\u001B[0;34m(\u001B[0m\u001B[0madv\u001B[0m\u001B[0;34m,\u001B[0m \u001B[0mtf\u001B[0m\u001B[0;34m.\u001B[0m\u001B[0mfloat32\u001B[0m\u001B[0;34m,\u001B[0m \u001B[0mtf\u001B[0m\u001B[0;34m.\u001B[0m\u001B[0mcast\u001B[0m\u001B[0;34m)\u001B[0m\u001B[0;34m\u001B[0m\u001B[0;34m\u001B[0m\u001B[0m\n\u001B[0m\u001B[1;32m     15\u001B[0m \u001B[0;34m\u001B[0m\u001B[0m\n\u001B[1;32m     16\u001B[0m     \u001B[0mmasks\u001B[0m \u001B[0;34m=\u001B[0m \u001B[0;34m[\u001B[0m\u001B[0mtf\u001B[0m\u001B[0;34m.\u001B[0m\u001B[0mcast\u001B[0m\u001B[0;34m(\u001B[0m\u001B[0madv\u001B[0m\u001B[0;34m[\u001B[0m\u001B[0m_\u001B[0m\u001B[0;34m]\u001B[0m \u001B[0;34m>=\u001B[0m \u001B[0;36m0\u001B[0m\u001B[0;34m,\u001B[0m \u001B[0mtf\u001B[0m\u001B[0;34m.\u001B[0m\u001B[0mfloat32\u001B[0m\u001B[0;34m)\u001B[0m \u001B[0;32mfor\u001B[0m \u001B[0m_\u001B[0m \u001B[0;32min\u001B[0m \u001B[0mrange\u001B[0m\u001B[0;34m(\u001B[0m\u001B[0mnum_env\u001B[0m\u001B[0;34m)\u001B[0m\u001B[0;34m]\u001B[0m\u001B[0;34m\u001B[0m\u001B[0;34m\u001B[0m\u001B[0m\n",
      "\u001B[0;31mTypeError\u001B[0m: 'DType' object is not iterable"
     ]
    }
   ]
  }
 ]
}