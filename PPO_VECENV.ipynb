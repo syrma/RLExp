{
  "nbformat": 4,
  "nbformat_minor": 0,
  "metadata": {
    "colab": {
      "name": "PPO_VECENV.ipynb",
      "provenance": [],
      "collapsed_sections": [],
      "include_colab_link": true
    },
    "kernelspec": {
      "name": "python3",
      "display_name": "Python 3"
    }
  },
  "cells": [
    {
      "cell_type": "markdown",
      "metadata": {
        "id": "view-in-github",
        "colab_type": "text"
      },
      "source": [
        "<a href=\"https://colab.research.google.com/github/syrma/RLExp/blob/master/PPO_VECENV.ipynb\" target=\"_parent\"><img src=\"https://colab.research.google.com/assets/colab-badge.svg\" alt=\"Open In Colab\"/></a>"
      ]
    },
    {
      "cell_type": "code",
      "metadata": {
        "colab": {
          "base_uri": "https://localhost:8080/"
        },
        "id": "fBnrThP-ybaQ",
        "outputId": "552e1d12-7e68-485b-ae66-240c2a50f101"
      },
      "source": [
        "!pip install tensorflow\n",
        "!pip install pybullet\n",
        "!pip install gym_vecenv\n",
        "\n",
        "import tensorflow as tf\n",
        "import gym\n",
        "import pybullet_envs\n",
        "import time\n",
        "import math\n",
        "import gym_vecenv\n",
        "import tensorflow_probability as tfp\n",
        "tfd = tfp.distributions\n"
      ],
      "execution_count": null,
      "outputs": [
        {
          "output_type": "stream",
          "text": [
            "Requirement already satisfied: tensorflow in /usr/local/lib/python3.7/dist-packages (2.4.1)\n",
            "Requirement already satisfied: protobuf>=3.9.2 in /usr/local/lib/python3.7/dist-packages (from tensorflow) (3.12.4)\n",
            "Requirement already satisfied: typing-extensions~=3.7.4 in /usr/local/lib/python3.7/dist-packages (from tensorflow) (3.7.4.3)\n",
            "Requirement already satisfied: h5py~=2.10.0 in /usr/local/lib/python3.7/dist-packages (from tensorflow) (2.10.0)\n",
            "Requirement already satisfied: keras-preprocessing~=1.1.2 in /usr/local/lib/python3.7/dist-packages (from tensorflow) (1.1.2)\n",
            "Requirement already satisfied: six~=1.15.0 in /usr/local/lib/python3.7/dist-packages (from tensorflow) (1.15.0)\n",
            "Requirement already satisfied: tensorflow-estimator<2.5.0,>=2.4.0 in /usr/local/lib/python3.7/dist-packages (from tensorflow) (2.4.0)\n",
            "Requirement already satisfied: termcolor~=1.1.0 in /usr/local/lib/python3.7/dist-packages (from tensorflow) (1.1.0)\n",
            "Requirement already satisfied: numpy~=1.19.2 in /usr/local/lib/python3.7/dist-packages (from tensorflow) (1.19.5)\n",
            "Requirement already satisfied: wheel~=0.35 in /usr/local/lib/python3.7/dist-packages (from tensorflow) (0.36.2)\n",
            "Requirement already satisfied: grpcio~=1.32.0 in /usr/local/lib/python3.7/dist-packages (from tensorflow) (1.32.0)\n",
            "Requirement already satisfied: absl-py~=0.10 in /usr/local/lib/python3.7/dist-packages (from tensorflow) (0.10.0)\n",
            "Requirement already satisfied: gast==0.3.3 in /usr/local/lib/python3.7/dist-packages (from tensorflow) (0.3.3)\n",
            "Requirement already satisfied: astunparse~=1.6.3 in /usr/local/lib/python3.7/dist-packages (from tensorflow) (1.6.3)\n",
            "Requirement already satisfied: tensorboard~=2.4 in /usr/local/lib/python3.7/dist-packages (from tensorflow) (2.4.1)\n",
            "Requirement already satisfied: opt-einsum~=3.3.0 in /usr/local/lib/python3.7/dist-packages (from tensorflow) (3.3.0)\n",
            "Requirement already satisfied: wrapt~=1.12.1 in /usr/local/lib/python3.7/dist-packages (from tensorflow) (1.12.1)\n",
            "Requirement already satisfied: google-pasta~=0.2 in /usr/local/lib/python3.7/dist-packages (from tensorflow) (0.2.0)\n",
            "Requirement already satisfied: flatbuffers~=1.12.0 in /usr/local/lib/python3.7/dist-packages (from tensorflow) (1.12)\n",
            "Requirement already satisfied: setuptools in /usr/local/lib/python3.7/dist-packages (from protobuf>=3.9.2->tensorflow) (54.0.0)\n",
            "Requirement already satisfied: werkzeug>=0.11.15 in /usr/local/lib/python3.7/dist-packages (from tensorboard~=2.4->tensorflow) (1.0.1)\n",
            "Requirement already satisfied: google-auth<2,>=1.6.3 in /usr/local/lib/python3.7/dist-packages (from tensorboard~=2.4->tensorflow) (1.27.1)\n",
            "Requirement already satisfied: requests<3,>=2.21.0 in /usr/local/lib/python3.7/dist-packages (from tensorboard~=2.4->tensorflow) (2.23.0)\n",
            "Requirement already satisfied: google-auth-oauthlib<0.5,>=0.4.1 in /usr/local/lib/python3.7/dist-packages (from tensorboard~=2.4->tensorflow) (0.4.3)\n",
            "Requirement already satisfied: markdown>=2.6.8 in /usr/local/lib/python3.7/dist-packages (from tensorboard~=2.4->tensorflow) (3.3.4)\n",
            "Requirement already satisfied: tensorboard-plugin-wit>=1.6.0 in /usr/local/lib/python3.7/dist-packages (from tensorboard~=2.4->tensorflow) (1.8.0)\n",
            "Requirement already satisfied: cachetools<5.0,>=2.0.0 in /usr/local/lib/python3.7/dist-packages (from google-auth<2,>=1.6.3->tensorboard~=2.4->tensorflow) (4.2.1)\n",
            "Requirement already satisfied: rsa<5,>=3.1.4; python_version >= \"3.6\" in /usr/local/lib/python3.7/dist-packages (from google-auth<2,>=1.6.3->tensorboard~=2.4->tensorflow) (4.7.2)\n",
            "Requirement already satisfied: pyasn1-modules>=0.2.1 in /usr/local/lib/python3.7/dist-packages (from google-auth<2,>=1.6.3->tensorboard~=2.4->tensorflow) (0.2.8)\n",
            "Requirement already satisfied: idna<3,>=2.5 in /usr/local/lib/python3.7/dist-packages (from requests<3,>=2.21.0->tensorboard~=2.4->tensorflow) (2.10)\n",
            "Requirement already satisfied: urllib3!=1.25.0,!=1.25.1,<1.26,>=1.21.1 in /usr/local/lib/python3.7/dist-packages (from requests<3,>=2.21.0->tensorboard~=2.4->tensorflow) (1.24.3)\n",
            "Requirement already satisfied: certifi>=2017.4.17 in /usr/local/lib/python3.7/dist-packages (from requests<3,>=2.21.0->tensorboard~=2.4->tensorflow) (2020.12.5)\n",
            "Requirement already satisfied: chardet<4,>=3.0.2 in /usr/local/lib/python3.7/dist-packages (from requests<3,>=2.21.0->tensorboard~=2.4->tensorflow) (3.0.4)\n",
            "Requirement already satisfied: requests-oauthlib>=0.7.0 in /usr/local/lib/python3.7/dist-packages (from google-auth-oauthlib<0.5,>=0.4.1->tensorboard~=2.4->tensorflow) (1.3.0)\n",
            "Requirement already satisfied: importlib-metadata; python_version < \"3.8\" in /usr/local/lib/python3.7/dist-packages (from markdown>=2.6.8->tensorboard~=2.4->tensorflow) (3.7.2)\n",
            "Requirement already satisfied: pyasn1>=0.1.3 in /usr/local/lib/python3.7/dist-packages (from rsa<5,>=3.1.4; python_version >= \"3.6\"->google-auth<2,>=1.6.3->tensorboard~=2.4->tensorflow) (0.4.8)\n",
            "Requirement already satisfied: oauthlib>=3.0.0 in /usr/local/lib/python3.7/dist-packages (from requests-oauthlib>=0.7.0->google-auth-oauthlib<0.5,>=0.4.1->tensorboard~=2.4->tensorflow) (3.1.0)\n",
            "Requirement already satisfied: zipp>=0.5 in /usr/local/lib/python3.7/dist-packages (from importlib-metadata; python_version < \"3.8\"->markdown>=2.6.8->tensorboard~=2.4->tensorflow) (3.4.1)\n",
            "Collecting pybullet\n",
            "\u001b[?25l  Downloading https://files.pythonhosted.org/packages/e6/9c/7b76db10cdaa69c840b211fe21ce6f31fb80b611b198fe18a64ddb8f374e/pybullet-3.1.0-cp37-cp37m-manylinux1_x86_64.whl (88.7MB)\n",
            "\u001b[K     |████████████████████████████████| 88.7MB 47kB/s \n",
            "\u001b[?25hInstalling collected packages: pybullet\n",
            "Successfully installed pybullet-3.1.0\n",
            "Collecting gym_vecenv\n",
            "  Downloading https://files.pythonhosted.org/packages/51/e2/3375a235249cdcad2ddcfca831982816b86c292e3be50ab56ea96c806ed0/gym_vecenv-1.0-py3-none-any.whl\n",
            "Requirement already satisfied: numpy in /usr/local/lib/python3.7/dist-packages (from gym_vecenv) (1.19.5)\n",
            "Requirement already satisfied: cloudpickle in /usr/local/lib/python3.7/dist-packages (from gym_vecenv) (1.3.0)\n",
            "Requirement already satisfied: gym in /usr/local/lib/python3.7/dist-packages (from gym_vecenv) (0.17.3)\n",
            "Requirement already satisfied: scipy in /usr/local/lib/python3.7/dist-packages (from gym->gym_vecenv) (1.4.1)\n",
            "Requirement already satisfied: pyglet<=1.5.0,>=1.4.0 in /usr/local/lib/python3.7/dist-packages (from gym->gym_vecenv) (1.5.0)\n",
            "Requirement already satisfied: future in /usr/local/lib/python3.7/dist-packages (from pyglet<=1.5.0,>=1.4.0->gym->gym_vecenv) (0.16.0)\n",
            "Installing collected packages: gym-vecenv\n",
            "Successfully installed gym-vecenv-1.0\n"
          ],
          "name": "stdout"
        }
      ]
    },
    {
      "cell_type": "code",
      "metadata": {
        "id": "JFuSUz15yyk0"
      },
      "source": [
        "@tf.function\n",
        "def action(model, obs, env):\n",
        "    est = model(obs)\n",
        "    if env.action_space.shape:\n",
        "        dist = tfd.MultivariateNormalDiag(est, tf.exp(model.log_std))\n",
        "    else:\n",
        "        dist = tfd.Categorical(logits=est, dtype=env.action_space.dtype)\n",
        "\n",
        "    action = dist.sample()\n",
        "    logprob = tf.reduce_sum(dist.log_prob(action))\n",
        "\n",
        "    return action, logprob"
      ],
      "execution_count": null,
      "outputs": []
    },
    {
      "cell_type": "code",
      "metadata": {
        "colab": {
          "base_uri": "https://localhost:8080/"
        },
        "id": "l33Nh3aCJrd-",
        "outputId": "923c201d-b6d1-43ee-aa31-c4246c188b04"
      },
      "source": [
        "    size = 5000\n",
        "    epochs = 100\n",
        "    opt = tf.optimizers.Adam(learning_rate=1e-2)\n",
        "    γ = .99\n",
        "    λ = 0.97\n",
        "    num_env = 5\n",
        "\n",
        "    env_name = \"CartPole-v0\"\n",
        "\n",
        "    env = gym_vecenv.DummyVecEnv([lambda: gym.make(env_name)] * num_env)\n",
        "    # policy/actor model\n",
        "    model = tf.keras.models.Sequential([\n",
        "        tf.keras.layers.Dense(64, activation='tanh', input_shape=env.observation_space.shape),\n",
        "        tf.keras.layers.Dense(64, activation='tanh'),\n",
        "        tf.keras.layers.Dense(env.action_space.shape[0] if env.action_space.shape else env.action_space.n)\n",
        "    ])\n",
        "    if env.action_space.shape:\n",
        "        model.log_std = tf.Variable(tf.fill(env.action_space.shape, -0.5))\n",
        "    model.summary()\n",
        "\n",
        "    # value/critic model\n",
        "    value_model = tf.keras.models.Sequential([\n",
        "        tf.keras.layers.Dense(64, activation='tanh', input_shape=env.observation_space.shape),\n",
        "        tf.keras.layers.Dense(64, activation='tanh'),\n",
        "        tf.keras.layers.Dense(1)\n",
        "    ])\n",
        "    value_model.compile('adam', loss='MSE')\n",
        "    value_model.summary()\n"
      ],
      "execution_count": null,
      "outputs": [
        {
          "output_type": "stream",
          "text": [
            "Model: \"sequential\"\n",
            "_________________________________________________________________\n",
            "Layer (type)                 Output Shape              Param #   \n",
            "=================================================================\n",
            "dense (Dense)                (None, 64)                320       \n",
            "_________________________________________________________________\n",
            "dense_1 (Dense)              (None, 64)                4160      \n",
            "_________________________________________________________________\n",
            "dense_2 (Dense)              (None, 2)                 130       \n",
            "=================================================================\n",
            "Total params: 4,610\n",
            "Trainable params: 4,610\n",
            "Non-trainable params: 0\n",
            "_________________________________________________________________\n",
            "Model: \"sequential_1\"\n",
            "_________________________________________________________________\n",
            "Layer (type)                 Output Shape              Param #   \n",
            "=================================================================\n",
            "dense_3 (Dense)              (None, 64)                320       \n",
            "_________________________________________________________________\n",
            "dense_4 (Dense)              (None, 64)                4160      \n",
            "_________________________________________________________________\n",
            "dense_5 (Dense)              (None, 1)                 65        \n",
            "=================================================================\n",
            "Total params: 4,545\n",
            "Trainable params: 4,545\n",
            "Non-trainable params: 0\n",
            "_________________________________________________________________\n"
          ],
          "name": "stdout"
        }
      ]
    },
    {
      "cell_type": "code",
      "metadata": {
        "id": "uLD9HvdxI0Ya"
      },
      "source": [
        "    obs_dtype = env.observation_space.dtype\n",
        "    act_dtype = env.action_space.dtype\n",
        "    \n",
        "    obs_buf = tf.TensorArray(obs_dtype, size)\n",
        "    act_buf = tf.TensorArray(act_dtype, size)\n",
        "    rew_buf = tf.TensorArray(tf.float32, size)\n",
        "    prob_buf = tf.TensorArray(tf.float32, size)\n",
        "    done_buf = tf.TensorArray(tf.float32, size)\n",
        "    \n",
        "    obs = env.reset()\n",
        "    obs = tf.cast(obs, obs_dtype)\n",
        "\n",
        "    for i in range(size):\n",
        "        act, prob = action(model, obs, env)\n",
        "        new_obs, rew, done, _ = env.step(act.numpy())\n",
        "\n",
        "        obs_buf = obs_buf.write(i, obs)\n",
        "        act_buf = act_buf.write(i, act)\n",
        "        rew_buf = rew_buf.write(i, rew)\n",
        "        prob_buf = prob_buf.write(i, prob)\n",
        "        done_buf = done_buf.write(i, done)\n",
        "\n",
        "        obs = tf.cast(new_obs, obs_dtype)\n",
        "\n",
        "    obs_buf = obs_buf.stack()\n",
        "    act_buf = act_buf.stack()\n",
        "    rew_buf = rew_buf.stack()\n",
        "    prob_buf = prob_buf.stack()\n",
        "    done_buf = done_buf.stack()\n",
        "\n",
        "    # last_val is 0 when done\n",
        "    last_val = tf.squeeze(value_model(obs)) * (1 - done_buf[-1])\n",
        "\n",
        "    #rets = []\n",
        "    #lens = []\n"
      ],
      "execution_count": null,
      "outputs": []
    },
    {
      "cell_type": "code",
      "metadata": {
        "id": "Oey0XTKWis27"
      },
      "source": [
        "#TODO: turn into a list of tensor arrays\n",
        "v_hats = [tf.TensorArray(tf.float32, size) for _ in range(num_env)]\n",
        "gae = [tf.TensorArray(tf.float32, size) for _ in range(num_env)]\n",
        "\n",
        "#TODO: changer la boucle et remplacer cumprod/cumsum\n",
        "last_idx = [0] * num_env\n",
        "\n",
        "for i in range(size):\n",
        "  for j in range(num_env): # num_env = ?\n",
        "    if i != size - 1 and not done_buf[i,j]:\n",
        "      continue\n",
        "\n",
        "    # sum of discounted rewards\n",
        "    current_episode = slice(last_idx[j],i+1)   \n",
        "    ep_idx = range(last_idx[j], i+1) \n",
        "    ep_rew = rew_buf[current_episode, j]\n",
        "    discounts = tf.math.cumprod(tf.fill(ep_rew.shape, γ), exclusive=True)\n",
        "    ep_v_hats = tf.math.cumsum(discounts * ep_rew, reverse=True)\n",
        "    v_hats[j] = v_hats[j].scatter(ep_idx, ep_v_hats)\n",
        "\n",
        "    Vs = tf.squeeze(value_model(obs_buf[current_episode, j]), axis=1)\n",
        "    if i == size - 1:\n",
        "      Vsp1 = tf.concat([Vs[1:], [last_val[j]]], axis=0)\n",
        "    else:\n",
        "      Vsp1 = tf.concat([Vs[1:], [0]], axis=0)\n",
        "    \n",
        "    deltas = rew_buf[current_episode, j] + γ * Vsp1 - Vs\n",
        "\n",
        "    # compute the advantage function (gae)\n",
        "    discounts = tf.math.cumprod(tf.fill(deltas.shape, γ * λ), exclusive=True)\n",
        "    ep_gae = tf.math.cumsum(discounts * deltas, reverse=True)\n",
        "    gae[j] = gae[j].scatter(ep_idx, ep_gae)\n",
        "\n",
        "    last_idx[j] = i+1\n",
        "\n",
        "v_hats = [v_hat.stack() for v_hat in v_hats]\n",
        "gae = [g.stack() for g in gae]"
      ],
      "execution_count": null,
      "outputs": []
    },
    {
      "cell_type": "code",
      "metadata": {
        "id": "Zm6KU5q7zZb-"
      },
      "source": [
        "#def run_env(env, size, model, value_model, γ, λ):"
      ],
      "execution_count": null,
      "outputs": []
    },
    {
      "cell_type": "code",
      "metadata": {
        "id": "WLam1Nvz0AVY"
      },
      "source": [
        "def train_one_epoch(env, batch_size, model, value_model, γ, λ):\n",
        "    obs_spc = env.observation_space\n",
        "    act_spc = env.action_space\n",
        "\n",
        "    start_time = time.time()\n",
        "\n",
        "    run_env(env, batch_size, model, value_model, γ, λ)\n",
        "\n",
        "    train_start_time = time.time()\n",
        "\n",
        "    var_list = list(model.trainable_weights)\n",
        "    if act_spc.shape:\n",
        "        var_list.append(model.log_std)\n",
        "\n",
        "    opt.minimize(batch.loss, var_list=var_list)\n",
        "\n",
        "    train_time = time.time() - train_start_time\n",
        "    run_time = train_start_time - start_time\n",
        "\n",
        "    print('run time', run_time, 'train time', train_time)\n",
        "    print('AvgEpRet:', tf.reduce_mean(batch.rets).numpy())\n",
        "\n",
        "    hist = value_model.fit(batch.obs_buf.numpy(), batch.V_hats.numpy(), batch_size=32)\n",
        "    wandb.log({'LossV': tf.reduce_mean(hist.history['loss']).numpy(),\n",
        "               'EpRet': wandb.Histogram(batch.rets),\n",
        "               'AvgEpRet': tf.reduce_mean(batch.rets),\n",
        "               'EpLen': tf.reduce_mean(batch.lens),\n",
        "               'VVals': wandb.Histogram(batch.V_hats)},\n",
        "              commit=False)"
      ],
      "execution_count": null,
      "outputs": []
    },
    {
      "cell_type": "code",
      "metadata": {
        "colab": {
          "base_uri": "https://localhost:8080/",
          "height": 220
        },
        "id": "69HHhCDmy2OV",
        "outputId": "61a4ab7c-ee37-483f-b633-435be14a81a8"
      },
      "source": [
        "if __name__ == '__main__':\n",
        "\n",
        "    parser = argparse.ArgumentParser(description='Train or test PPO')\n",
        "    parser.add_argument('test', nargs='?', help = 'Test a saved or a random model')\n",
        "    parser.add_argument('--load_dir', help='Optional: directory of saved model to test or resume training')\n",
        "    parser.add_argument('--env_name', help='Environment name to use with OpenAI Gym')\n",
        "    parser.add_argument('--save_dir', help='Optional: directory where the model should be saved')\n",
        "\n",
        "    args = parser.parse_args()\n",
        "    env_name = args.env_name\n",
        "    save_dir = args.save_dir\n",
        "    load_dir = args.load_dir\n",
        "\n",
        "    batch_size = 5000\n",
        "    epochs = 100\n",
        "    opt = tf.optimizers.Adam(learning_rate=1e-2)\n",
        "    γ = .99\n",
        "    λ = 0.97\n",
        "    num_env = 5\n",
        "\n",
        "    env = gym_vecenv.DummyVecEnv([lambda: gym.make(env_name)] * num_env)\n",
        "    obs_spc = env.observation_space\n",
        "    act_spc = env.action_space\n",
        "\n",
        "    wandb.init(project='ppo', entity='rlexp')\n",
        "    wandb.config.env = env_name\n",
        "    wandb.config.epochs = epochs\n",
        "    wandb.config.batch_size = batch_size\n",
        "    wandb.config.lam = λ\n",
        "    wandb.config.gamma = γ\n",
        "\n",
        "    # policy/actor model\n",
        "    model = tf.keras.models.Sequential([\n",
        "        tf.keras.layers.Dense(64, activation='tanh', input_shape=obs_spc.shape),\n",
        "        tf.keras.layers.Dense(64, activation='tanh'),\n",
        "        tf.keras.layers.Dense(act_spc.shape[0] if act_spc.shape else act_spc.n)\n",
        "    ])\n",
        "    if act_spc.shape:\n",
        "        model.log_std = tf.Variable(tf.fill(env.action_space.shape, -0.5))\n",
        "    model.summary()\n",
        "\n",
        "    # value/critic model\n",
        "    value_model = tf.keras.models.Sequential([\n",
        "        tf.keras.layers.Dense(64, activation='tanh', input_shape=obs_spc.shape),\n",
        "        tf.keras.layers.Dense(64, activation='tanh'),\n",
        "        tf.keras.layers.Dense(1)\n",
        "    ])\n",
        "    value_model.compile('adam', loss='MSE')\n",
        "    value_model.summary()"
      ],
      "execution_count": null,
      "outputs": [
        {
          "output_type": "stream",
          "text": [
            "usage: ipykernel_launcher.py [-h] [--load_dir LOAD_DIR] [--env_name ENV_NAME]\n",
            "                             [--save_dir SAVE_DIR]\n",
            "                             [test]\n",
            "ipykernel_launcher.py: error: unrecognized arguments: -f\n"
          ],
          "name": "stderr"
        },
        {
          "output_type": "error",
          "ename": "SystemExit",
          "evalue": "ignored",
          "traceback": [
            "An exception has occurred, use %tb to see the full traceback.\n",
            "\u001b[0;31mSystemExit\u001b[0m\u001b[0;31m:\u001b[0m 2\n"
          ]
        },
        {
          "output_type": "stream",
          "text": [
            "/usr/local/lib/python3.6/dist-packages/IPython/core/interactiveshell.py:2890: UserWarning: To exit: use 'exit', 'quit', or Ctrl-D.\n",
            "  warn(\"To exit: use 'exit', 'quit', or Ctrl-D.\", stacklevel=1)\n"
          ],
          "name": "stderr"
        }
      ]
    }
  ]
}