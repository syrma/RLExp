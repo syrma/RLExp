{
 "cells": [
  {
   "cell_type": "code",
   "execution_count": 129,
   "metadata": {
    "collapsed": true
   },
   "outputs": [],
   "source": [
    "import tensorflow as tf\n",
    "import tensorflow_probability as tfp\n",
    "tfd = tfp.distributions\n",
    "\n",
    "import gym\n",
    "import pybullet_envs\n"
   ]
  },
  {
   "cell_type": "code",
   "execution_count": 130,
   "outputs": [],
   "source": [
    "def action(model, obs, act_spc):\n",
    "    est = tf.squeeze(model(tf.expand_dims(obs, 0)), axis=0)\n",
    "    if act_spc.shape: # Box\n",
    "        dist = tfd.MultivariateNormalDiag(est, tf.exp(model.log_std))\n",
    "    else: # Discrete\n",
    "        dist = tfd.Categorical(logits=est, dtype=act_spc.dtype)\n",
    "\n",
    "    return dist.sample()\n"
   ],
   "metadata": {
    "collapsed": false,
    "pycharm": {
     "name": "#%%\n"
    }
   }
  },
  {
   "cell_type": "code",
   "execution_count": 131,
   "outputs": [],
   "source": [
    "def test(epochs, env, model):\n",
    "    for i in range(1, epochs+1):\n",
    "        print('epoch', i)\n",
    "        obs, done = env.reset(), False\n",
    "        episode_rew = 0\n",
    "        while not done:\n",
    "            act = action(model, obs, env.action_space)\n",
    "            obs, rew, done, _ = env.step(act.numpy())\n",
    "            episode_rew += rew\n",
    "        print(\"Episode reward\", episode_rew)"
   ],
   "metadata": {
    "collapsed": false,
    "pycharm": {
     "name": "#%%\n"
    }
   }
  },
  {
   "cell_type": "code",
   "execution_count": 132,
   "outputs": [],
   "source": [
    "env_name = 'Walker2DBulletEnv-v0'\n",
    "env = gym.make(env_name)\n",
    "env = gym.wrappers.NormalizeReward(env)\n",
    "env = gym.wrappers.TransformReward(env, lambda reward: tf.clip_by_value(reward, -10, 10))\n",
    "obs_spc = env.observation_space\n",
    "act_spc = env.action_space"
   ],
   "metadata": {
    "collapsed": false,
    "pycharm": {
     "name": "#%%\n"
    }
   }
  },
  {
   "cell_type": "code",
   "execution_count": 133,
   "outputs": [
    {
     "name": "stdout",
     "output_type": "stream",
     "text": [
      "Model: \"sequential_17\"\n",
      "_________________________________________________________________\n",
      " Layer (type)                Output Shape              Param #   \n",
      "=================================================================\n",
      " dense_51 (Dense)            (None, 64)                1472      \n",
      "                                                                 \n",
      " dense_52 (Dense)            (None, 64)                4160      \n",
      "                                                                 \n",
      " dense_53 (Dense)            (None, 6)                 390       \n",
      "                                                                 \n",
      "=================================================================\n",
      "Total params: 6,028\n",
      "Trainable params: 6,028\n",
      "Non-trainable params: 0\n",
      "_________________________________________________________________\n"
     ]
    }
   ],
   "source": [
    "model = tf.keras.models.Sequential([\n",
    "            tf.keras.layers.Dense(64, activation='tanh', input_shape=obs_spc.shape),\n",
    "            tf.keras.layers.Dense(64, activation='tanh'),\n",
    "            tf.keras.layers.Dense(act_spc.shape[0] if act_spc.shape else act_spc.n)\n",
    "        ])\n",
    "if act_spc.shape:\n",
    "    model.log_std = tf.Variable(tf.zeros(act_spc.shape))\n",
    "model.summary()\n"
   ],
   "metadata": {
    "collapsed": false,
    "pycharm": {
     "name": "#%%\n"
    }
   }
  },
  {
   "cell_type": "code",
   "execution_count": 136,
   "outputs": [
    {
     "name": "stdout",
     "output_type": "stream",
     "text": [
      "epoch 1\n",
      "Episode reward tf.Tensor(2.183619675876214, shape=(), dtype=float64)\n",
      "epoch 2\n",
      "Episode reward tf.Tensor(3.2180128399767116, shape=(), dtype=float64)\n",
      "epoch 3\n",
      "Episode reward tf.Tensor(2.14742739778221, shape=(), dtype=float64)\n",
      "epoch 4\n",
      "Episode reward tf.Tensor(2.0113324524482077, shape=(), dtype=float64)\n",
      "epoch 5\n",
      "Episode reward tf.Tensor(2.8878095209334083, shape=(), dtype=float64)\n",
      "epoch 6\n",
      "Episode reward tf.Tensor(1.3064470389747167, shape=(), dtype=float64)\n",
      "epoch 7\n",
      "Episode reward tf.Tensor(2.0597418566878987, shape=(), dtype=float64)\n",
      "epoch 8\n",
      "Episode reward tf.Tensor(2.300824895951164, shape=(), dtype=float64)\n",
      "epoch 9\n",
      "Episode reward tf.Tensor(2.9550075958506925, shape=(), dtype=float64)\n",
      "epoch 10\n",
      "Episode reward tf.Tensor(2.098149857849518, shape=(), dtype=float64)\n"
     ]
    }
   ],
   "source": [
    "test(10, env, model)"
   ],
   "metadata": {
    "collapsed": false,
    "pycharm": {
     "name": "#%%\n"
    }
   }
  },
  {
   "cell_type": "code",
   "execution_count": 134,
   "outputs": [],
   "source": [],
   "metadata": {
    "collapsed": false,
    "pycharm": {
     "name": "#%%\n"
    }
   }
  }
 ],
 "metadata": {
  "kernelspec": {
   "display_name": "Python 3",
   "language": "python",
   "name": "python3"
  },
  "language_info": {
   "codemirror_mode": {
    "name": "ipython",
    "version": 2
   },
   "file_extension": ".py",
   "mimetype": "text/x-python",
   "name": "python",
   "nbconvert_exporter": "python",
   "pygments_lexer": "ipython2",
   "version": "2.7.6"
  }
 },
 "nbformat": 4,
 "nbformat_minor": 0
}